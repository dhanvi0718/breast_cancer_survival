{
  "nbformat": 4,
  "nbformat_minor": 0,
  "metadata": {
    "colab": {
      "provenance": []
    },
    "kernelspec": {
      "name": "python3",
      "display_name": "Python 3"
    },
    "language_info": {
      "name": "python"
    }
  },
  "cells": [
    {
      "cell_type": "code",
      "source": [
        "import torchvision\n",
        "from torchvision import datasets\n",
        "from torchvision.transforms import ToTensor"
      ],
      "metadata": {
        "id": "yrG1aETmRFNK"
      },
      "execution_count": 6,
      "outputs": []
    },
    {
      "cell_type": "code",
      "source": [
        "train_data = datasets.MNIST(\n",
        "    root = 'data',\n",
        "    train = True,\n",
        "    transform = ToTensor(),\n",
        "    download = True,\n",
        ")"
      ],
      "metadata": {
        "id": "231ov8z-RFIC",
        "colab": {
          "base_uri": "https://localhost:8080/"
        },
        "outputId": "7627c66b-ca54-467d-fe60-8f0a7a9947db"
      },
      "execution_count": 7,
      "outputs": [
        {
          "output_type": "stream",
          "name": "stdout",
          "text": [
            "Downloading http://yann.lecun.com/exdb/mnist/train-images-idx3-ubyte.gz\n",
            "Failed to download (trying next):\n",
            "HTTP Error 404: Not Found\n",
            "\n",
            "Downloading https://ossci-datasets.s3.amazonaws.com/mnist/train-images-idx3-ubyte.gz\n",
            "Downloading https://ossci-datasets.s3.amazonaws.com/mnist/train-images-idx3-ubyte.gz to data/MNIST/raw/train-images-idx3-ubyte.gz\n"
          ]
        },
        {
          "output_type": "stream",
          "name": "stderr",
          "text": [
            "100%|██████████| 9.91M/9.91M [00:00<00:00, 17.7MB/s]\n"
          ]
        },
        {
          "output_type": "stream",
          "name": "stdout",
          "text": [
            "Extracting data/MNIST/raw/train-images-idx3-ubyte.gz to data/MNIST/raw\n",
            "\n",
            "Downloading http://yann.lecun.com/exdb/mnist/train-labels-idx1-ubyte.gz\n",
            "Failed to download (trying next):\n",
            "HTTP Error 404: Not Found\n",
            "\n",
            "Downloading https://ossci-datasets.s3.amazonaws.com/mnist/train-labels-idx1-ubyte.gz\n",
            "Downloading https://ossci-datasets.s3.amazonaws.com/mnist/train-labels-idx1-ubyte.gz to data/MNIST/raw/train-labels-idx1-ubyte.gz\n"
          ]
        },
        {
          "output_type": "stream",
          "name": "stderr",
          "text": [
            "100%|██████████| 28.9k/28.9k [00:00<00:00, 476kB/s]\n"
          ]
        },
        {
          "output_type": "stream",
          "name": "stdout",
          "text": [
            "Extracting data/MNIST/raw/train-labels-idx1-ubyte.gz to data/MNIST/raw\n",
            "\n",
            "Downloading http://yann.lecun.com/exdb/mnist/t10k-images-idx3-ubyte.gz\n",
            "Failed to download (trying next):\n",
            "HTTP Error 404: Not Found\n",
            "\n",
            "Downloading https://ossci-datasets.s3.amazonaws.com/mnist/t10k-images-idx3-ubyte.gz\n",
            "Downloading https://ossci-datasets.s3.amazonaws.com/mnist/t10k-images-idx3-ubyte.gz to data/MNIST/raw/t10k-images-idx3-ubyte.gz\n"
          ]
        },
        {
          "output_type": "stream",
          "name": "stderr",
          "text": [
            "100%|██████████| 1.65M/1.65M [00:00<00:00, 4.42MB/s]\n"
          ]
        },
        {
          "output_type": "stream",
          "name": "stdout",
          "text": [
            "Extracting data/MNIST/raw/t10k-images-idx3-ubyte.gz to data/MNIST/raw\n",
            "\n",
            "Downloading http://yann.lecun.com/exdb/mnist/t10k-labels-idx1-ubyte.gz\n",
            "Failed to download (trying next):\n",
            "HTTP Error 404: Not Found\n",
            "\n",
            "Downloading https://ossci-datasets.s3.amazonaws.com/mnist/t10k-labels-idx1-ubyte.gz\n",
            "Downloading https://ossci-datasets.s3.amazonaws.com/mnist/t10k-labels-idx1-ubyte.gz to data/MNIST/raw/t10k-labels-idx1-ubyte.gz\n"
          ]
        },
        {
          "output_type": "stream",
          "name": "stderr",
          "text": [
            "100%|██████████| 4.54k/4.54k [00:00<00:00, 3.84MB/s]\n"
          ]
        },
        {
          "output_type": "stream",
          "name": "stdout",
          "text": [
            "Extracting data/MNIST/raw/t10k-labels-idx1-ubyte.gz to data/MNIST/raw\n",
            "\n"
          ]
        }
      ]
    },
    {
      "cell_type": "code",
      "source": [
        "test_data = datasets.MNIST(\n",
        "    root = 'data',\n",
        "    train = False,\n",
        "    transform = ToTensor(),\n",
        "    download = True,\n",
        ")"
      ],
      "metadata": {
        "id": "LovRJh7aRFFi"
      },
      "execution_count": 8,
      "outputs": []
    },
    {
      "cell_type": "code",
      "source": [
        "train_data"
      ],
      "metadata": {
        "colab": {
          "base_uri": "https://localhost:8080/"
        },
        "id": "oYinMbX1e1qi",
        "outputId": "3f5f2506-854d-46dc-f8c1-495a1f55bfa2"
      },
      "execution_count": 9,
      "outputs": [
        {
          "output_type": "execute_result",
          "data": {
            "text/plain": [
              "Dataset MNIST\n",
              "    Number of datapoints: 60000\n",
              "    Root location: data\n",
              "    Split: Train\n",
              "    StandardTransform\n",
              "Transform: ToTensor()"
            ]
          },
          "metadata": {},
          "execution_count": 9
        }
      ]
    },
    {
      "cell_type": "code",
      "source": [
        "test_data"
      ],
      "metadata": {
        "id": "4cRZfvneRFC3",
        "colab": {
          "base_uri": "https://localhost:8080/"
        },
        "outputId": "76785c45-e2e3-40e2-ba0a-4ec52acb49b5"
      },
      "execution_count": 11,
      "outputs": [
        {
          "output_type": "execute_result",
          "data": {
            "text/plain": [
              "Dataset MNIST\n",
              "    Number of datapoints: 10000\n",
              "    Root location: data\n",
              "    Split: Test\n",
              "    StandardTransform\n",
              "Transform: ToTensor()"
            ]
          },
          "metadata": {},
          "execution_count": 11
        }
      ]
    },
    {
      "cell_type": "code",
      "source": [
        "train_data.data.shape"
      ],
      "metadata": {
        "id": "OFEN0iDzRFAR",
        "colab": {
          "base_uri": "https://localhost:8080/"
        },
        "outputId": "47be77c4-4083-4acb-ac84-9fca9390d6bb"
      },
      "execution_count": 15,
      "outputs": [
        {
          "output_type": "execute_result",
          "data": {
            "text/plain": [
              "torch.Size([60000, 28, 28])"
            ]
          },
          "metadata": {},
          "execution_count": 15
        }
      ]
    },
    {
      "cell_type": "code",
      "source": [
        "train_data.targets.size()"
      ],
      "metadata": {
        "id": "9U6-XMAHRE9g",
        "colab": {
          "base_uri": "https://localhost:8080/"
        },
        "outputId": "80724e3b-04ff-40fd-b87b-f8b38cd59471"
      },
      "execution_count": 17,
      "outputs": [
        {
          "output_type": "execute_result",
          "data": {
            "text/plain": [
              "torch.Size([60000])"
            ]
          },
          "metadata": {},
          "execution_count": 17
        }
      ]
    },
    {
      "cell_type": "code",
      "source": [
        "train_data.targets"
      ],
      "metadata": {
        "colab": {
          "base_uri": "https://localhost:8080/"
        },
        "id": "nOXZziR6fse8",
        "outputId": "204224da-7d8a-4017-cd13-1614576247b3"
      },
      "execution_count": 18,
      "outputs": [
        {
          "output_type": "execute_result",
          "data": {
            "text/plain": [
              "tensor([5, 0, 4,  ..., 5, 6, 8])"
            ]
          },
          "metadata": {},
          "execution_count": 18
        }
      ]
    },
    {
      "cell_type": "code",
      "source": [
        "from torch.utils.data import DataLoader\n",
        "loaders = {\n",
        "    'train' : DataLoader(train_data, batch_size=100, shuffle=True),\n",
        "    'test'  : DataLoader(test_data, batch_size=100, shuffle=True),\n",
        "}"
      ],
      "metadata": {
        "id": "weJ_nd_xgOiG"
      },
      "execution_count": 19,
      "outputs": []
    },
    {
      "cell_type": "code",
      "source": [
        "import torch.nn as nn\n",
        "import torch.nn.functional as F\n",
        "import torch.optim as optim\n",
        "class CNN(nn.Module):\n",
        "    def __init__(self):\n",
        "        super(CNN, self).__init__()\n",
        "        self.conv1 = nn.Conv2d(1, 10, kernel_size=5)\n",
        "        self.conv2 = nn.Conv2d(10, 20, kernel_size=5)\n",
        "        self.conv2_drop = nn.Dropout2d()\n",
        "        self.fc1 = nn.Linear(320, 50)\n",
        "        self.fc2 = nn.Linear(50, 10)\n",
        "    def forward(self, x):\n",
        "        x = F.relu(F.max_pool2d(self.conv1(x), 2))\n",
        "        x = F.relu(F.max_pool2d(self.conv2_drop(self.conv2(x)), 2))\n",
        "        x = x.view(-1, 320)\n",
        "        x = F.relu(self.fc1(x))\n",
        "        x = F.dropout(x, training=self.training)\n",
        "        x = self.fc2(x)\n",
        "\n",
        "        return F.softmax(x)"
      ],
      "metadata": {
        "id": "qdy_Z7ZDg1zC"
      },
      "execution_count": 20,
      "outputs": []
    },
    {
      "cell_type": "code",
      "source": [
        "model = CNN()\n",
        "optimizer = optim.Adam(model.parameters(), lr=0.001)\n",
        "loss_fn = nn.CrossEntropyLoss()\n",
        "\n",
        "def train(epoch):\n",
        "    model.train()\n",
        "    for batch_idx, (data, target) in enumerate(loaders['train']):\n",
        "        optimizer.zero_grad()\n",
        "        output = model(data)\n",
        "        loss = loss_fn(output, target)\n",
        "        loss.backward()\n",
        "        optimizer.step()\n",
        "        if batch_idx % 20 == 0:\n",
        "          print(f\"Train Epoch: {epoch} [{batch_idx * len(data)}/{len(loaders['train'].dataset)} ({100. * batch_idx / len(loaders['train']):.0f}%)]\\t{loss.item():.6f}\")\n",
        "\n"
      ],
      "metadata": {
        "id": "6eIURq8MkrmA"
      },
      "execution_count": 26,
      "outputs": []
    },
    {
      "cell_type": "code",
      "source": [
        "def test():\n",
        "    model.eval()\n",
        "    test_loss = 0\n",
        "    correct = 0\n",
        "    with torch.no_grad():\n",
        "        for data, target in loaders['test']:\n",
        "            output = model(data)\n",
        "            test_loss += loss_fn(output, target).item()\n",
        "            pred = output.argmax(dim=1, keepdim=True)\n",
        "            correct += pred.eq(target.data.view_as(pred)).sum().item()\n",
        "\n",
        "    test_loss /= len(loaders['test'].dataset)\n",
        "    print(f'===========================\\nTest set: Average loss: {test_loss:.4f}, Accuracy: {correct}/{len(loaders[\"test\"].dataset)} ({100. * correct / len(loaders[\"test\"].dataset):.0f}%)')"
      ],
      "metadata": {
        "id": "n9G0M6eRk36R"
      },
      "execution_count": 27,
      "outputs": []
    },
    {
      "cell_type": "code",
      "source": [
        "for epoch in range(1, 10):\n",
        "    train(epoch)\n",
        "    test()"
      ],
      "metadata": {
        "colab": {
          "base_uri": "https://localhost:8080/"
        },
        "id": "9QHb7tKqk5XJ",
        "outputId": "b490daca-acee-4e40-f387-9bf681530f39"
      },
      "execution_count": 28,
      "outputs": [
        {
          "output_type": "stream",
          "name": "stderr",
          "text": [
            "<ipython-input-20-13525cbb4de0>:20: UserWarning: Implicit dimension choice for softmax has been deprecated. Change the call to include dim=X as an argument.\n",
            "  return F.softmax(x)\n"
          ]
        },
        {
          "output_type": "stream",
          "name": "stdout",
          "text": [
            "Train Epoch: 1 [0/60000 (0%)]\t2.302990\n",
            "Train Epoch: 1 [2000/60000 (3%)]\t2.285168\n",
            "Train Epoch: 1 [4000/60000 (7%)]\t2.128618\n",
            "Train Epoch: 1 [6000/60000 (10%)]\t1.909455\n",
            "Train Epoch: 1 [8000/60000 (13%)]\t1.844955\n",
            "Train Epoch: 1 [10000/60000 (17%)]\t1.739735\n",
            "Train Epoch: 1 [12000/60000 (20%)]\t1.768879\n",
            "Train Epoch: 1 [14000/60000 (23%)]\t1.772602\n",
            "Train Epoch: 1 [16000/60000 (27%)]\t1.727477\n",
            "Train Epoch: 1 [18000/60000 (30%)]\t1.718371\n",
            "Train Epoch: 1 [20000/60000 (33%)]\t1.708410\n",
            "Train Epoch: 1 [22000/60000 (37%)]\t1.715989\n",
            "Train Epoch: 1 [24000/60000 (40%)]\t1.681178\n",
            "Train Epoch: 1 [26000/60000 (43%)]\t1.708002\n",
            "Train Epoch: 1 [28000/60000 (47%)]\t1.690126\n",
            "Train Epoch: 1 [30000/60000 (50%)]\t1.679939\n",
            "Train Epoch: 1 [32000/60000 (53%)]\t1.592317\n",
            "Train Epoch: 1 [34000/60000 (57%)]\t1.654931\n",
            "Train Epoch: 1 [36000/60000 (60%)]\t1.669824\n",
            "Train Epoch: 1 [38000/60000 (63%)]\t1.658662\n",
            "Train Epoch: 1 [40000/60000 (67%)]\t1.601146\n",
            "Train Epoch: 1 [42000/60000 (70%)]\t1.590184\n",
            "Train Epoch: 1 [44000/60000 (73%)]\t1.586815\n",
            "Train Epoch: 1 [46000/60000 (77%)]\t1.633926\n",
            "Train Epoch: 1 [48000/60000 (80%)]\t1.617039\n",
            "Train Epoch: 1 [50000/60000 (83%)]\t1.563734\n",
            "Train Epoch: 1 [52000/60000 (87%)]\t1.619039\n",
            "Train Epoch: 1 [54000/60000 (90%)]\t1.604712\n",
            "Train Epoch: 1 [56000/60000 (93%)]\t1.608101\n",
            "Train Epoch: 1 [58000/60000 (97%)]\t1.529475\n",
            "===========================\n",
            "Test set: Average loss: 0.0153, Accuracy: 9369/10000 (94%)\n",
            "Train Epoch: 2 [0/60000 (0%)]\t1.639533\n",
            "Train Epoch: 2 [2000/60000 (3%)]\t1.608748\n",
            "Train Epoch: 2 [4000/60000 (7%)]\t1.541035\n",
            "Train Epoch: 2 [6000/60000 (10%)]\t1.527344\n",
            "Train Epoch: 2 [8000/60000 (13%)]\t1.572744\n",
            "Train Epoch: 2 [10000/60000 (17%)]\t1.604322\n",
            "Train Epoch: 2 [12000/60000 (20%)]\t1.561517\n",
            "Train Epoch: 2 [14000/60000 (23%)]\t1.557489\n",
            "Train Epoch: 2 [16000/60000 (27%)]\t1.527101\n",
            "Train Epoch: 2 [18000/60000 (30%)]\t1.573669\n",
            "Train Epoch: 2 [20000/60000 (33%)]\t1.527781\n",
            "Train Epoch: 2 [22000/60000 (37%)]\t1.537932\n",
            "Train Epoch: 2 [24000/60000 (40%)]\t1.623494\n",
            "Train Epoch: 2 [26000/60000 (43%)]\t1.545101\n",
            "Train Epoch: 2 [28000/60000 (47%)]\t1.593548\n",
            "Train Epoch: 2 [30000/60000 (50%)]\t1.579086\n",
            "Train Epoch: 2 [32000/60000 (53%)]\t1.555493\n",
            "Train Epoch: 2 [34000/60000 (57%)]\t1.579731\n",
            "Train Epoch: 2 [36000/60000 (60%)]\t1.551314\n",
            "Train Epoch: 2 [38000/60000 (63%)]\t1.585706\n",
            "Train Epoch: 2 [40000/60000 (67%)]\t1.571803\n",
            "Train Epoch: 2 [42000/60000 (70%)]\t1.552853\n",
            "Train Epoch: 2 [44000/60000 (73%)]\t1.569904\n",
            "Train Epoch: 2 [46000/60000 (77%)]\t1.596483\n",
            "Train Epoch: 2 [48000/60000 (80%)]\t1.594938\n",
            "Train Epoch: 2 [50000/60000 (83%)]\t1.541854\n",
            "Train Epoch: 2 [52000/60000 (87%)]\t1.550257\n",
            "Train Epoch: 2 [54000/60000 (90%)]\t1.538589\n",
            "Train Epoch: 2 [56000/60000 (93%)]\t1.517168\n",
            "Train Epoch: 2 [58000/60000 (97%)]\t1.560316\n",
            "===========================\n",
            "Test set: Average loss: 0.0151, Accuracy: 9507/10000 (95%)\n",
            "Train Epoch: 3 [0/60000 (0%)]\t1.510159\n",
            "Train Epoch: 3 [2000/60000 (3%)]\t1.580139\n",
            "Train Epoch: 3 [4000/60000 (7%)]\t1.544131\n",
            "Train Epoch: 3 [6000/60000 (10%)]\t1.555767\n",
            "Train Epoch: 3 [8000/60000 (13%)]\t1.535022\n",
            "Train Epoch: 3 [10000/60000 (17%)]\t1.541579\n",
            "Train Epoch: 3 [12000/60000 (20%)]\t1.534256\n",
            "Train Epoch: 3 [14000/60000 (23%)]\t1.599652\n",
            "Train Epoch: 3 [16000/60000 (27%)]\t1.558236\n",
            "Train Epoch: 3 [18000/60000 (30%)]\t1.584468\n",
            "Train Epoch: 3 [20000/60000 (33%)]\t1.533825\n",
            "Train Epoch: 3 [22000/60000 (37%)]\t1.535571\n",
            "Train Epoch: 3 [24000/60000 (40%)]\t1.591791\n",
            "Train Epoch: 3 [26000/60000 (43%)]\t1.560500\n",
            "Train Epoch: 3 [28000/60000 (47%)]\t1.539622\n",
            "Train Epoch: 3 [30000/60000 (50%)]\t1.550951\n",
            "Train Epoch: 3 [32000/60000 (53%)]\t1.532097\n",
            "Train Epoch: 3 [34000/60000 (57%)]\t1.561391\n",
            "Train Epoch: 3 [36000/60000 (60%)]\t1.548635\n",
            "Train Epoch: 3 [38000/60000 (63%)]\t1.530143\n",
            "Train Epoch: 3 [40000/60000 (67%)]\t1.568138\n",
            "Train Epoch: 3 [42000/60000 (70%)]\t1.498469\n",
            "Train Epoch: 3 [44000/60000 (73%)]\t1.592221\n",
            "Train Epoch: 3 [46000/60000 (77%)]\t1.557631\n",
            "Train Epoch: 3 [48000/60000 (80%)]\t1.555548\n",
            "Train Epoch: 3 [50000/60000 (83%)]\t1.534539\n",
            "Train Epoch: 3 [52000/60000 (87%)]\t1.533628\n",
            "Train Epoch: 3 [54000/60000 (90%)]\t1.527119\n",
            "Train Epoch: 3 [56000/60000 (93%)]\t1.511813\n",
            "Train Epoch: 3 [58000/60000 (97%)]\t1.544606\n",
            "===========================\n",
            "Test set: Average loss: 0.0150, Accuracy: 9590/10000 (96%)\n",
            "Train Epoch: 4 [0/60000 (0%)]\t1.531404\n",
            "Train Epoch: 4 [2000/60000 (3%)]\t1.551223\n",
            "Train Epoch: 4 [4000/60000 (7%)]\t1.584547\n",
            "Train Epoch: 4 [6000/60000 (10%)]\t1.578867\n",
            "Train Epoch: 4 [8000/60000 (13%)]\t1.499766\n",
            "Train Epoch: 4 [10000/60000 (17%)]\t1.583964\n",
            "Train Epoch: 4 [12000/60000 (20%)]\t1.551150\n",
            "Train Epoch: 4 [14000/60000 (23%)]\t1.510319\n",
            "Train Epoch: 4 [16000/60000 (27%)]\t1.564925\n",
            "Train Epoch: 4 [18000/60000 (30%)]\t1.543835\n",
            "Train Epoch: 4 [20000/60000 (33%)]\t1.513126\n",
            "Train Epoch: 4 [22000/60000 (37%)]\t1.552536\n",
            "Train Epoch: 4 [24000/60000 (40%)]\t1.518292\n",
            "Train Epoch: 4 [26000/60000 (43%)]\t1.606637\n",
            "Train Epoch: 4 [28000/60000 (47%)]\t1.534307\n",
            "Train Epoch: 4 [30000/60000 (50%)]\t1.493300\n",
            "Train Epoch: 4 [32000/60000 (53%)]\t1.533073\n",
            "Train Epoch: 4 [34000/60000 (57%)]\t1.511706\n",
            "Train Epoch: 4 [36000/60000 (60%)]\t1.530370\n",
            "Train Epoch: 4 [38000/60000 (63%)]\t1.538522\n",
            "Train Epoch: 4 [40000/60000 (67%)]\t1.522605\n",
            "Train Epoch: 4 [42000/60000 (70%)]\t1.560360\n",
            "Train Epoch: 4 [44000/60000 (73%)]\t1.543395\n",
            "Train Epoch: 4 [46000/60000 (77%)]\t1.553121\n",
            "Train Epoch: 4 [48000/60000 (80%)]\t1.570269\n",
            "Train Epoch: 4 [50000/60000 (83%)]\t1.544492\n",
            "Train Epoch: 4 [52000/60000 (87%)]\t1.531378\n",
            "Train Epoch: 4 [54000/60000 (90%)]\t1.534039\n",
            "Train Epoch: 4 [56000/60000 (93%)]\t1.558199\n",
            "Train Epoch: 4 [58000/60000 (97%)]\t1.576637\n",
            "===========================\n",
            "Test set: Average loss: 0.0150, Accuracy: 9641/10000 (96%)\n",
            "Train Epoch: 5 [0/60000 (0%)]\t1.558040\n",
            "Train Epoch: 5 [2000/60000 (3%)]\t1.515992\n",
            "Train Epoch: 5 [4000/60000 (7%)]\t1.532256\n",
            "Train Epoch: 5 [6000/60000 (10%)]\t1.510552\n",
            "Train Epoch: 5 [8000/60000 (13%)]\t1.519280\n",
            "Train Epoch: 5 [10000/60000 (17%)]\t1.498915\n",
            "Train Epoch: 5 [12000/60000 (20%)]\t1.531392\n",
            "Train Epoch: 5 [14000/60000 (23%)]\t1.530139\n",
            "Train Epoch: 5 [16000/60000 (27%)]\t1.569935\n",
            "Train Epoch: 5 [18000/60000 (30%)]\t1.531449\n",
            "Train Epoch: 5 [20000/60000 (33%)]\t1.526788\n",
            "Train Epoch: 5 [22000/60000 (37%)]\t1.519193\n",
            "Train Epoch: 5 [24000/60000 (40%)]\t1.533225\n",
            "Train Epoch: 5 [26000/60000 (43%)]\t1.574826\n",
            "Train Epoch: 5 [28000/60000 (47%)]\t1.561183\n",
            "Train Epoch: 5 [30000/60000 (50%)]\t1.495004\n",
            "Train Epoch: 5 [32000/60000 (53%)]\t1.554566\n",
            "Train Epoch: 5 [34000/60000 (57%)]\t1.492339\n",
            "Train Epoch: 5 [36000/60000 (60%)]\t1.523853\n",
            "Train Epoch: 5 [38000/60000 (63%)]\t1.514651\n",
            "Train Epoch: 5 [40000/60000 (67%)]\t1.557983\n",
            "Train Epoch: 5 [42000/60000 (70%)]\t1.521729\n",
            "Train Epoch: 5 [44000/60000 (73%)]\t1.554193\n",
            "Train Epoch: 5 [46000/60000 (77%)]\t1.575369\n",
            "Train Epoch: 5 [48000/60000 (80%)]\t1.517208\n",
            "Train Epoch: 5 [50000/60000 (83%)]\t1.534925\n",
            "Train Epoch: 5 [52000/60000 (87%)]\t1.598048\n",
            "Train Epoch: 5 [54000/60000 (90%)]\t1.552132\n",
            "Train Epoch: 5 [56000/60000 (93%)]\t1.511283\n",
            "Train Epoch: 5 [58000/60000 (97%)]\t1.537838\n",
            "===========================\n",
            "Test set: Average loss: 0.0149, Accuracy: 9670/10000 (97%)\n",
            "Train Epoch: 6 [0/60000 (0%)]\t1.495377\n",
            "Train Epoch: 6 [2000/60000 (3%)]\t1.511064\n",
            "Train Epoch: 6 [4000/60000 (7%)]\t1.517875\n",
            "Train Epoch: 6 [6000/60000 (10%)]\t1.526947\n",
            "Train Epoch: 6 [8000/60000 (13%)]\t1.522564\n",
            "Train Epoch: 6 [10000/60000 (17%)]\t1.522525\n",
            "Train Epoch: 6 [12000/60000 (20%)]\t1.538908\n",
            "Train Epoch: 6 [14000/60000 (23%)]\t1.523549\n",
            "Train Epoch: 6 [16000/60000 (27%)]\t1.529397\n",
            "Train Epoch: 6 [18000/60000 (30%)]\t1.541536\n",
            "Train Epoch: 6 [20000/60000 (33%)]\t1.566893\n",
            "Train Epoch: 6 [22000/60000 (37%)]\t1.571343\n",
            "Train Epoch: 6 [24000/60000 (40%)]\t1.502845\n",
            "Train Epoch: 6 [26000/60000 (43%)]\t1.578268\n",
            "Train Epoch: 6 [28000/60000 (47%)]\t1.544960\n",
            "Train Epoch: 6 [30000/60000 (50%)]\t1.499507\n",
            "Train Epoch: 6 [32000/60000 (53%)]\t1.551382\n",
            "Train Epoch: 6 [34000/60000 (57%)]\t1.537323\n",
            "Train Epoch: 6 [36000/60000 (60%)]\t1.538938\n",
            "Train Epoch: 6 [38000/60000 (63%)]\t1.519360\n",
            "Train Epoch: 6 [40000/60000 (67%)]\t1.571617\n",
            "Train Epoch: 6 [42000/60000 (70%)]\t1.498783\n",
            "Train Epoch: 6 [44000/60000 (73%)]\t1.525496\n",
            "Train Epoch: 6 [46000/60000 (77%)]\t1.549832\n",
            "Train Epoch: 6 [48000/60000 (80%)]\t1.505753\n",
            "Train Epoch: 6 [50000/60000 (83%)]\t1.495301\n",
            "Train Epoch: 6 [52000/60000 (87%)]\t1.521997\n",
            "Train Epoch: 6 [54000/60000 (90%)]\t1.526741\n",
            "Train Epoch: 6 [56000/60000 (93%)]\t1.544671\n",
            "Train Epoch: 6 [58000/60000 (97%)]\t1.529308\n",
            "===========================\n",
            "Test set: Average loss: 0.0149, Accuracy: 9691/10000 (97%)\n",
            "Train Epoch: 7 [0/60000 (0%)]\t1.551102\n",
            "Train Epoch: 7 [2000/60000 (3%)]\t1.525032\n",
            "Train Epoch: 7 [4000/60000 (7%)]\t1.530578\n",
            "Train Epoch: 7 [6000/60000 (10%)]\t1.537212\n",
            "Train Epoch: 7 [8000/60000 (13%)]\t1.587171\n",
            "Train Epoch: 7 [10000/60000 (17%)]\t1.574039\n",
            "Train Epoch: 7 [12000/60000 (20%)]\t1.526526\n",
            "Train Epoch: 7 [14000/60000 (23%)]\t1.499083\n",
            "Train Epoch: 7 [16000/60000 (27%)]\t1.562389\n",
            "Train Epoch: 7 [18000/60000 (30%)]\t1.513451\n",
            "Train Epoch: 7 [20000/60000 (33%)]\t1.532910\n",
            "Train Epoch: 7 [22000/60000 (37%)]\t1.529789\n",
            "Train Epoch: 7 [24000/60000 (40%)]\t1.529052\n",
            "Train Epoch: 7 [26000/60000 (43%)]\t1.507705\n",
            "Train Epoch: 7 [28000/60000 (47%)]\t1.571494\n",
            "Train Epoch: 7 [30000/60000 (50%)]\t1.518782\n",
            "Train Epoch: 7 [32000/60000 (53%)]\t1.503040\n",
            "Train Epoch: 7 [34000/60000 (57%)]\t1.524561\n",
            "Train Epoch: 7 [36000/60000 (60%)]\t1.527691\n",
            "Train Epoch: 7 [38000/60000 (63%)]\t1.535621\n",
            "Train Epoch: 7 [40000/60000 (67%)]\t1.520542\n",
            "Train Epoch: 7 [42000/60000 (70%)]\t1.585984\n",
            "Train Epoch: 7 [44000/60000 (73%)]\t1.541315\n",
            "Train Epoch: 7 [46000/60000 (77%)]\t1.529102\n",
            "Train Epoch: 7 [48000/60000 (80%)]\t1.554229\n",
            "Train Epoch: 7 [50000/60000 (83%)]\t1.508887\n",
            "Train Epoch: 7 [52000/60000 (87%)]\t1.541855\n",
            "Train Epoch: 7 [54000/60000 (90%)]\t1.524151\n",
            "Train Epoch: 7 [56000/60000 (93%)]\t1.559634\n",
            "Train Epoch: 7 [58000/60000 (97%)]\t1.502937\n",
            "===========================\n",
            "Test set: Average loss: 0.0149, Accuracy: 9717/10000 (97%)\n",
            "Train Epoch: 8 [0/60000 (0%)]\t1.514720\n",
            "Train Epoch: 8 [2000/60000 (3%)]\t1.526597\n",
            "Train Epoch: 8 [4000/60000 (7%)]\t1.574569\n",
            "Train Epoch: 8 [6000/60000 (10%)]\t1.522651\n",
            "Train Epoch: 8 [8000/60000 (13%)]\t1.562355\n",
            "Train Epoch: 8 [10000/60000 (17%)]\t1.485238\n",
            "Train Epoch: 8 [12000/60000 (20%)]\t1.545760\n",
            "Train Epoch: 8 [14000/60000 (23%)]\t1.557786\n",
            "Train Epoch: 8 [16000/60000 (27%)]\t1.530012\n",
            "Train Epoch: 8 [18000/60000 (30%)]\t1.545581\n",
            "Train Epoch: 8 [20000/60000 (33%)]\t1.506615\n",
            "Train Epoch: 8 [22000/60000 (37%)]\t1.518138\n",
            "Train Epoch: 8 [24000/60000 (40%)]\t1.507687\n",
            "Train Epoch: 8 [26000/60000 (43%)]\t1.540935\n",
            "Train Epoch: 8 [28000/60000 (47%)]\t1.508276\n",
            "Train Epoch: 8 [30000/60000 (50%)]\t1.521744\n",
            "Train Epoch: 8 [32000/60000 (53%)]\t1.533405\n",
            "Train Epoch: 8 [34000/60000 (57%)]\t1.522561\n",
            "Train Epoch: 8 [36000/60000 (60%)]\t1.563578\n",
            "Train Epoch: 8 [38000/60000 (63%)]\t1.513195\n",
            "Train Epoch: 8 [40000/60000 (67%)]\t1.552529\n",
            "Train Epoch: 8 [42000/60000 (70%)]\t1.553427\n",
            "Train Epoch: 8 [44000/60000 (73%)]\t1.524944\n",
            "Train Epoch: 8 [46000/60000 (77%)]\t1.540987\n",
            "Train Epoch: 8 [48000/60000 (80%)]\t1.503357\n",
            "Train Epoch: 8 [50000/60000 (83%)]\t1.510443\n",
            "Train Epoch: 8 [52000/60000 (87%)]\t1.534802\n",
            "Train Epoch: 8 [54000/60000 (90%)]\t1.527291\n",
            "Train Epoch: 8 [56000/60000 (93%)]\t1.530689\n",
            "Train Epoch: 8 [58000/60000 (97%)]\t1.501917\n",
            "===========================\n",
            "Test set: Average loss: 0.0149, Accuracy: 9724/10000 (97%)\n",
            "Train Epoch: 9 [0/60000 (0%)]\t1.510325\n",
            "Train Epoch: 9 [2000/60000 (3%)]\t1.496163\n",
            "Train Epoch: 9 [4000/60000 (7%)]\t1.501625\n",
            "Train Epoch: 9 [6000/60000 (10%)]\t1.494762\n",
            "Train Epoch: 9 [8000/60000 (13%)]\t1.518450\n",
            "Train Epoch: 9 [10000/60000 (17%)]\t1.530183\n",
            "Train Epoch: 9 [12000/60000 (20%)]\t1.481436\n",
            "Train Epoch: 9 [14000/60000 (23%)]\t1.542966\n",
            "Train Epoch: 9 [16000/60000 (27%)]\t1.511387\n",
            "Train Epoch: 9 [18000/60000 (30%)]\t1.538614\n",
            "Train Epoch: 9 [20000/60000 (33%)]\t1.566524\n",
            "Train Epoch: 9 [22000/60000 (37%)]\t1.527559\n",
            "Train Epoch: 9 [24000/60000 (40%)]\t1.536686\n",
            "Train Epoch: 9 [26000/60000 (43%)]\t1.545868\n",
            "Train Epoch: 9 [28000/60000 (47%)]\t1.533389\n",
            "Train Epoch: 9 [30000/60000 (50%)]\t1.505352\n",
            "Train Epoch: 9 [32000/60000 (53%)]\t1.543360\n",
            "Train Epoch: 9 [34000/60000 (57%)]\t1.535818\n",
            "Train Epoch: 9 [36000/60000 (60%)]\t1.552147\n",
            "Train Epoch: 9 [38000/60000 (63%)]\t1.521886\n",
            "Train Epoch: 9 [40000/60000 (67%)]\t1.541232\n",
            "Train Epoch: 9 [42000/60000 (70%)]\t1.510136\n",
            "Train Epoch: 9 [44000/60000 (73%)]\t1.500028\n",
            "Train Epoch: 9 [46000/60000 (77%)]\t1.533931\n",
            "Train Epoch: 9 [48000/60000 (80%)]\t1.486684\n",
            "Train Epoch: 9 [50000/60000 (83%)]\t1.566192\n",
            "Train Epoch: 9 [52000/60000 (87%)]\t1.523641\n",
            "Train Epoch: 9 [54000/60000 (90%)]\t1.530793\n",
            "Train Epoch: 9 [56000/60000 (93%)]\t1.550385\n",
            "Train Epoch: 9 [58000/60000 (97%)]\t1.499743\n",
            "===========================\n",
            "Test set: Average loss: 0.0149, Accuracy: 9720/10000 (97%)\n"
          ]
        }
      ]
    },
    {
      "cell_type": "code",
      "source": [
        "import matplotlib.pyplot as plt\n",
        "model.eval()\n",
        "data, target = test_data[3]\n",
        "output = model(data)\n",
        "prediction = output.argmax(dim=1, keepdim=True)\n",
        "print(f'Prediction: {prediction.item()}, Actual: {target}')\n",
        "plt.imshow(data.reshape(28, 28), cmap='gray')\n",
        "plt.show()\n",
        "print(output.argmax())"
      ],
      "metadata": {
        "colab": {
          "base_uri": "https://localhost:8080/",
          "height": 519
        },
        "id": "SKtjjJkjsu94",
        "outputId": "50259eeb-dd8e-4652-d597-4157a4237467"
      },
      "execution_count": 32,
      "outputs": [
        {
          "output_type": "stream",
          "name": "stdout",
          "text": [
            "Prediction: 0, Actual: 0\n"
          ]
        },
        {
          "output_type": "stream",
          "name": "stderr",
          "text": [
            "<ipython-input-20-13525cbb4de0>:20: UserWarning: Implicit dimension choice for softmax has been deprecated. Change the call to include dim=X as an argument.\n",
            "  return F.softmax(x)\n"
          ]
        },
        {
          "output_type": "display_data",
          "data": {
            "text/plain": [
              "<Figure size 640x480 with 1 Axes>"
            ],
            "image/png": "[encoded data removed]"
          },
          "metadata": {}
        },
        {
          "output_type": "stream",
          "name": "stdout",
          "text": [
            "tensor(0)\n"
          ]
        }
      ]
    },
    {
      "cell_type": "code",
      "source": [],
      "metadata": {
        "id": "oez6q9eOtm6e"
      },
      "execution_count": null,
      "outputs": []
    }
  ]
}